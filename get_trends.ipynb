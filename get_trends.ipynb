{
 "cells": [
  {
   "cell_type": "code",
   "execution_count": null,
   "metadata": {},
   "outputs": [],
   "source": [
    "import tweepy\n",
    "import re\n",
    "import sys\n",
    "from hidden import *\n",
    "from pprint import pprint\n",
    "from iso3166 import countries"
   ]
  },
  {
   "cell_type": "code",
   "execution_count": 2,
   "metadata": {},
   "outputs": [],
   "source": [
    "def getcities_forcountry(c_code):\n",
    "    \"\"\" Receives a string that is a ISO country code and returns a dict that\n",
    "        is a mapping of 'city name' : 'Where on earth Yahoo ID' for that country\n",
    "    \"\"\"\n",
    "    jtrendlst = api.trends_available()\n",
    "    city_woeid = dict()\n",
    "    # print(jtrendlst)\n",
    "    for loc in jtrendlst:\n",
    "        if loc['countryCode'] == c_code and loc['parentid'] != 1:\n",
    "            k, v = loc['name'], loc['woeid']\n",
    "            city_woeid[k] = v\n",
    "    return city_woeid"
   ]
  },
  {
   "cell_type": "code",
   "execution_count": 3,
   "metadata": {},
   "outputs": [],
   "source": [
    "def gettrends_forcity(ci_name, ci_woeid):\n",
    "    \"\"\" Receives a the city name and its WOEID and prints out the top 5\n",
    "        trends for that city\n",
    "    \"\"\"\n",
    "    try:\n",
    "        jobjcity = api.trends_place(ci_woeid)\n",
    "    except Exception as e:\n",
    "        print(e)\n",
    "        print(\n",
    "            f\"No trends are available for City: '{ci_name}' with WOEID ID '{ci_woeid}'\\n\")\n",
    "    else:\n",
    "        trends = jobjcity[0]['trends']\n",
    "        for i, trend in enumerate(trends[:5], 1):\n",
    "            print(f\"{i}. {trend['name']:<40} {trend['url']}\")"
   ]
  },
  {
   "cell_type": "code",
   "execution_count": 4,
   "metadata": {},
   "outputs": [],
   "source": [
    "def titlecase(s):\n",
    "    \"\"\" Receives a string that is the user's city input and returns the city name\n",
    "        that is title()'ed'.\n",
    "    \"\"\"\n",
    "    if s.count('-') > 1:\n",
    "        return re.sub(r\"[A-Za-z]+(-[A-Za-z]+)?\", lambda mo: mo.group(0).capitalize(), s)\n",
    "    elif s.count(' de ') > 0:\n",
    "        return re.sub(r\"[A-Za-zñáéíóú]+( [A-Za-z]+)?\", lambda mo: mo.group(0).capitalize(), s)\n",
    "    else:\n",
    "        return s.title()"
   ]
  },
  {
   "cell_type": "code",
   "execution_count": 5,
   "metadata": {},
   "outputs": [
    {
     "name": "stdout",
     "output_type": "stream",
     "text": [
      "   Enter ISO COUNTRY codes like\n",
      "    AU / AUS for Australia\n",
      "    DE / DEU for Germany\n",
      "    \n",
      "Country code: us\n",
      "Trends are available for the following cities in United States of America\n",
      "[   'Albuquerque', 'Atlanta', 'Austin', 'Baltimore', 'Baton Rouge',\n",
      "    'Birmingham', 'Boston', 'Charlotte', 'Chicago', 'Cincinnati', 'Cleveland',\n",
      "    'Colorado Springs', 'Columbus', 'Dallas-Ft. Worth', 'Denver', 'Detroit',\n",
      "    'El Paso', 'Fresno', 'Greensboro', 'Harrisburg', 'Honolulu', 'Houston',\n",
      "    'Indianapolis', 'Jackson', 'Jacksonville', 'Kansas City', 'Las Vegas',\n",
      "    'Long Beach', 'Los Angeles', 'Louisville', 'Memphis', 'Mesa', 'Miami',\n",
      "    'Milwaukee', 'Minneapolis', 'Nashville', 'New Haven', 'New Orleans',\n",
      "    'New York', 'Norfolk', 'Oklahoma City', 'Omaha', 'Orlando', 'Philadelphia',\n",
      "    'Phoenix', 'Pittsburgh', 'Portland', 'Providence', 'Raleigh', 'Richmond',\n",
      "    'Sacramento', 'St. Louis', 'Salt Lake City', 'San Antonio', 'San Diego',\n",
      "    'San Francisco', 'San Jose', 'Seattle', 'Tallahassee', 'Tampa', 'Tucson',\n",
      "    'Virginia Beach', 'Washington']\n",
      "To Exit hit 'Enter' OR\n",
      "Pick a city in US: salt lake city\n",
      "1. Dallas                                   http://twitter.com/search?q=Dallas\n",
      "2. #MonacoGP                                http://twitter.com/search?q=%23MonacoGP\n",
      "3. #sundayvibes                             http://twitter.com/search?q=%23sundayvibes\n",
      "4. #SundayMorning                           http://twitter.com/search?q=%23SundayMorning\n",
      "5. #TimeToExpelMarjorie                     http://twitter.com/search?q=%23TimeToExpelMarjorie\n",
      "To Exit hit 'Enter' OR\n",
      "Pick a city in US: dallas-ft. worth\n",
      "1. Mavs                                     http://twitter.com/search?q=Mavs\n",
      "2. #MonacoGP                                http://twitter.com/search?q=%23MonacoGP\n",
      "3. #sundayvibes                             http://twitter.com/search?q=%23sundayvibes\n",
      "4. #SundayMorning                           http://twitter.com/search?q=%23SundayMorning\n",
      "5. #TimeToExpelMarjorie                     http://twitter.com/search?q=%23TimeToExpelMarjorie\n",
      "To Exit hit 'Enter' OR\n",
      "Pick a city in US: hamburg\n",
      "[{'code': 34, 'message': 'Sorry, that page does not exist.'}]\n",
      "No trends are available for City: 'Hamburg' with WOEID ID 'None'\n",
      "\n",
      "To Exit hit 'Enter' OR\n",
      "Pick a city in US: \n"
     ]
    }
   ],
   "source": [
    "# My API credentials are in \"hidden\" module\n",
    "auth = tweepy.OAuthHandler(consumer_key, consumer_secret)\n",
    "auth.set_access_token(access_token, access_token_secret)\n",
    "api = tweepy.API(auth)\n",
    "\n",
    "print(\"\"\"   Enter ISO COUNTRY codes like\n",
    "    AU / AUS for Australia\n",
    "    DE / DEU for Germany\n",
    "    \"\"\")\n",
    "user_country = input(\"Country code: \")\n",
    "\n",
    "try:\n",
    "    c_code = countries.get(user_country).alpha2\n",
    "    c_name = countries.get(user_country).name\n",
    "except KeyError:\n",
    "    wikiurl = \"https://en.wikipedia.org/wiki/ISO_3166-1\"\n",
    "    sys.exit(\n",
    "        f\"'{user_country}' is not a valid Country code. For ISO codes refer {wikiurl}\")\n",
    "\n",
    "dloc = getcities_forcountry(c_code)\n",
    "\n",
    "if len(dloc) < 1:\n",
    "    print(f\"No locations found for Country {c_code}-{c_name}\")\n",
    "else:\n",
    "    print(f\"Trends are available for the following cities in {c_name}\")\n",
    "    pprint(list(dloc.keys()), indent=4, compact=True)\n",
    "    while True:\n",
    "        print(\"To Exit hit 'Enter' OR\")\n",
    "        user_city = input(f\"Pick a city in {c_code}: \")\n",
    "        if len(user_city) < 1:\n",
    "            break\n",
    "        ci_name = titlecase(user_city)\n",
    "        ci_woeid = dloc.get(ci_name)\n",
    "        gettrends_forcity(ci_name, ci_woeid)\n"
   ]
  },
  {
   "cell_type": "code",
   "execution_count": null,
   "metadata": {},
   "outputs": [],
   "source": []
  }
 ],
 "metadata": {
  "kernelspec": {
   "display_name": "twip1kernel",
   "language": "python",
   "name": "twip1kernel"
  },
  "language_info": {
   "codemirror_mode": {
    "name": "ipython",
    "version": 3
   },
   "file_extension": ".py",
   "mimetype": "text/x-python",
   "name": "python",
   "nbconvert_exporter": "python",
   "pygments_lexer": "ipython3",
   "version": "3.8.3"
  }
 },
 "nbformat": 4,
 "nbformat_minor": 4
}
